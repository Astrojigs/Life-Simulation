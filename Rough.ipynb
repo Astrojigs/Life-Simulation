{
 "cells": [
  {
   "cell_type": "code",
   "execution_count": 2,
   "id": "aafffc47",
   "metadata": {},
   "outputs": [],
   "source": [
    "import numpy as np\n",
    "import matplotlib.pyplot as plt\n",
    "from IPython.display import clear_output"
   ]
  },
  {
   "cell_type": "markdown",
   "id": "af8e8f28",
   "metadata": {},
   "source": [
    "# \"Particle\" Class\n",
    "A class which describes the properties of a particle."
   ]
  },
  {
   "cell_type": "code",
   "execution_count": 3,
   "id": "cbd95739",
   "metadata": {},
   "outputs": [],
   "source": [
    "class Particle():\n",
    "    \"\"\"\n",
    "    x_pos = Position of Particle on x-axis.\n",
    "    y_pos = Position of Particle on y-axis.\n",
    "    vx = X-component of Velocity.\n",
    "    vy = Y-component of Velocity.\n",
    "    ax = X-component of Acceleration\n",
    "    ay = Y-component of Acceleration\n",
    "    colour = Colour of the particle\n",
    "    \"\"\"\n",
    "    def __init__(self, x_pos, y_pos, colour, vx=0, vy=0, ax=0, ay=0):\n",
    "\n",
    "        self.x = x_pos\n",
    "        self.y = y_pos\n",
    "        self.vx = vx\n",
    "        self.vy = vy\n",
    "        self.ax = ax\n",
    "        self.ay = ay\n",
    "        self.colour = colour"
   ]
  },
  {
   "cell_type": "markdown",
   "id": "4e362d02",
   "metadata": {},
   "source": [
    "# \"Create\" class\n",
    "A class to create multiple particles and assign random positions"
   ]
  },
  {
   "cell_type": "code",
   "execution_count": 4,
   "id": "08ad30fc",
   "metadata": {},
   "outputs": [],
   "source": [
    "class Create():\n",
    "    \"\"\"\n",
    "        A class used to create particles with a particular colour.\n",
    "        For example: \n",
    "                    green = Create(100, 'green')\n",
    "        This will create 100 green coloured particles with random positions\n",
    "                    \n",
    "        Attributes:\n",
    "        num = number of particles\n",
    "        colour = colour of particles (e.g. 'green') (**string format**)\n",
    "        x_limit = Range of x. (e.g. x_limit = 100 implies a range from 0 to 100 on x-axis)\n",
    "        y_limit = Range of y. (e.g. y_limit = 220 implies a range from - to 220 on y-axis)\n",
    "        \"\"\"\n",
    "    def __init__(self, num, colour, x_limit, y_limit):\n",
    "        # size is the number of particle present.\n",
    "        self.size = num\n",
    "        self.colour = colour\n",
    "        self.x_limit = x_limit\n",
    "        self.y_limit = y_limit\n",
    "        self.particle_list = self.create()\n",
    "        self.update()\n",
    "    \n",
    "                \n",
    "    def create(self):\n",
    "        # Creating an empty list to store particles.\n",
    "        particle_list = []\n",
    "\n",
    "        # Running a loop to generate particles:\n",
    "        for i in range(self.size):\n",
    "            # random x (integer between '0 to x_limit')\n",
    "            ran_x = np.random.randint(0, self.x_limit)\n",
    "            # random y (integer between '0 to y_limit')\n",
    "            ran_y = np.random.randint(0, self.y_limit)\n",
    "            \n",
    "            # Creating a particle\n",
    "            particle = Particle(x_pos=ran_x, y_pos=ran_y,colour=self.colour)\n",
    "            \n",
    "            # Addiing the particle in the list.\n",
    "            particle_list.append(particle)\n",
    "        # Returning the list\n",
    "        \n",
    "        #**Note: Particle velocity and acceleration are not updated and =0**\n",
    "        return particle_list\n",
    "    \n",
    "    def update(self):\n",
    "        \"\"\"\n",
    "        Updates the position, velocity and acceleration of all particles.\"\"\"\n",
    "        # x and y component of positions of all particles\n",
    "        self.x = [p.x for p in self.particle_list]\n",
    "        self.y = [p.y for p in self.particle_list]\n",
    "        \n",
    "        # x and y velocity component of all particles\n",
    "        self.vx = [p.vx for p in self.particle_list]\n",
    "        self.vy = [p.vy for p in self.particle_list]\n",
    "        \n",
    "        # x and y acceleration component of all particles\n",
    "        self.ax = [p.ax for p in self.particle_list]\n",
    "        self.ay = [p.ay for p in self.particle_list]\n",
    "        \n",
    "    def plot(self, ax= None):\n",
    "        \"\"\"\n",
    "        Plots the particles\"\"\"\n",
    "        self.update()\n",
    "        x_list, y_list, col = self.x, self.y, self.colour\n",
    "        \n",
    "        if ax is None:\n",
    "            plt.scatter(x_list, y_list,c=col,s=1)\n",
    "        else:\n",
    "            ax.scatter(x_list, y_list,c=col,s=1)"
   ]
  },
  {
   "cell_type": "code",
   "execution_count": 5,
   "id": "45fd8447",
   "metadata": {},
   "outputs": [],
   "source": [
    "def rule(particle1, particle2, force=10):\n",
    "    \"\"\"\n",
    "    Takes two objects of 'Create' class.\n",
    "    For example:\n",
    "    \n",
    "        ```\n",
    "        green = Create(10, 'green', x_limit=100, y_limit=100)\n",
    "        red = Create(10,'red',x_limit=100,y_limit=100)\n",
    "        \n",
    "        rule(green, red, force=0.1)\n",
    "        # force = +ve => repulsive force\n",
    "        # force = -ve => attractive force\n",
    "        ```\n",
    "        ### **Note**: only \"green\" particles will have their positions updated.\n",
    "                     If you want to update the properties of red particles then\n",
    "                     use :\n",
    "                     `rule(red,green,force=-0.1)\n",
    "                     `\n",
    "                     This will attract red particles towards green particles\n",
    "                \n",
    "        \n",
    "        ########\n",
    "        particle1: any object from 'Create' class\n",
    "        particle2: any object from 'Create' class\n",
    "        force: force acting between the two particle objects.\n",
    "        \"\"\"\n",
    "    for i in range(particle1.size):\n",
    "        particle1.particle_list[i].ax = 0\n",
    "        particle1.particle_list[i].ay = 0\n",
    "        for j in range(particle2.size):\n",
    "            a = particle1.particle_list[i]\n",
    "            b = particle2.particle_list[j]\n",
    "            dx = a.x - b.x\n",
    "            dy = a.y - b.y\n",
    "            d = np.sqrt(dx**2 + dy**2)\n",
    "            if d>0 and d<0.16*particle1.x_limit:\n",
    "                F = force*1/d\n",
    "                a.ax += (F*dx)\n",
    "                a.ay += (F*dy)\n",
    "                \n",
    "        a.vx = (a.vx + a.ax)*0.5\n",
    "        a.vy = (a.vy + a.ay)*0.5\n",
    "        a.x += a.vx\n",
    "        a.y += a.vy\n",
    "        particle1.particle_list[i] = a\n",
    "        \n",
    "        # Boundary condition\n",
    "        if a.x <= 0 or a.x >= particle1.x_limit:\n",
    "            a.vx *= -1\n",
    "        if a.y <= 0 or a.y >= particle1.x_limit:\n",
    "            a.vy *= -1"
   ]
  },
  {
   "cell_type": "markdown",
   "id": "cdd90698",
   "metadata": {},
   "source": [
    "# Creating Life Patterns"
   ]
  },
  {
   "cell_type": "code",
   "execution_count": null,
   "id": "31e9af61",
   "metadata": {},
   "outputs": [
    {
     "data": {
      "image/png": "[encoded data removed]",
      "text/plain": [
       "<Figure size 360x360 with 1 Axes>"
      ]
     },
     "metadata": {
      "needs_background": "light"
     },
     "output_type": "display_data"
    }
   ],
   "source": [
    "# We set the x and y limit for the plot:\n",
    "x_lim = 500\n",
    "y_lim = 500\n",
    "\n",
    "# Creating 'Create' objects \n",
    "green = Create(num = 200, colour='green',x_limit=x_lim, y_limit=y_lim)\n",
    "red = Create(num = 200, colour='red',x_limit=x_lim,y_limit=y_lim)\n",
    "\n",
    "# time loop\n",
    "for i in range(200):\n",
    "    fig, ax = plt.subplots(1,1,figsize=(5,5))\n",
    "    # plotting the particles\n",
    "    green.plot(ax)\n",
    "    red.plot(ax)\n",
    "    \n",
    "    # applying rules\n",
    "    rule(green, red, force=0.05)\n",
    "    rule(red, green, force = -0.01)\n",
    "    rule(red,red, force=-0.1)\n",
    "    \n",
    "    # setting x limits (for plotting)\n",
    "    ax.set_xlim(0-10,x_lim+10)\n",
    "    ax.set_ylim(0-10,y_lim+10)\n",
    "    \n",
    "    plt.show()\n",
    "    clear_output(wait=True)"
   ]
  },
  {
   "cell_type": "code",
   "execution_count": null,
   "id": "d260f4f6",
   "metadata": {},
   "outputs": [],
   "source": [
    " "
   ]
  }
 ],
 "metadata": {
  "kernelspec": {
   "display_name": "Python 3",
   "language": "python",
   "name": "python3"
  },
  "language_info": {
   "codemirror_mode": {
    "name": "ipython",
    "version": 3
   },
   "file_extension": ".py",
   "mimetype": "text/x-python",
   "name": "python",
   "nbconvert_exporter": "python",
   "pygments_lexer": "ipython3",
   "version": "3.8.0"
  }
 },
 "nbformat": 4,
 "nbformat_minor": 5
}
