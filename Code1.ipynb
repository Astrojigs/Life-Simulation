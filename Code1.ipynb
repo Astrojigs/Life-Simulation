{
 "cells": [
  {
   "cell_type": "code",
   "execution_count": 32,
   "id": "29295896",
   "metadata": {},
   "outputs": [],
   "source": [
    "import numpy as np\n",
    "import os\n",
    "import matplotlib.pyplot as plt\n",
    "plt.style.use('dark_background')\n",
    "from IPython.display import clear_output\n",
    "from numba import jit,njit, cuda\n",
    "import cv2"
   ]
  },
  {
   "cell_type": "markdown",
   "id": "d6f411a3",
   "metadata": {},
   "source": [
    "# \"Particle\" Class\n",
    "A class which describes the properties of a particle."
   ]
  },
  {
   "cell_type": "code",
   "execution_count": 19,
   "id": "669f02b8",
   "metadata": {},
   "outputs": [],
   "source": [
    "class Particle():\n",
    "    \"\"\"\n",
    "    x_pos = Position of Particle on x-axis.\n",
    "    y_pos = Position of Particle on y-axis.\n",
    "    vx = X-component of Velocity.\n",
    "    vy = Y-component of Velocity.\n",
    "    ax = X-component of Acceleration\n",
    "    ay = Y-component of Acceleration\n",
    "    colour = Colour of the particle\n",
    "    \"\"\"\n",
    "    def __init__(self, x_pos, y_pos, colour, vx=0, vy=0, ax=0, ay=0):\n",
    "\n",
    "        self.x = x_pos\n",
    "        self.y = y_pos\n",
    "        self.vx = vx\n",
    "        self.vy = vy\n",
    "        self.ax = ax\n",
    "        self.ay = ay\n",
    "        self.colour = colour"
   ]
  },
  {
   "cell_type": "markdown",
   "id": "de29c636",
   "metadata": {},
   "source": [
    "# \"Create\" class\n",
    "A class to create multiple particles and assign random positions"
   ]
  },
  {
   "cell_type": "code",
   "execution_count": 79,
   "id": "41543e5e",
   "metadata": {},
   "outputs": [],
   "source": [
    "class Create():\n",
    "    \"\"\"\n",
    "        A class used to create particles with a particular colour.\n",
    "        For example: \n",
    "                    green = Create(100, 'green')\n",
    "        This will create 100 green coloured particles with random positions\n",
    "                    \n",
    "        Attributes:\n",
    "        num = number of particles\n",
    "        colour = colour of particles (e.g. 'green') (**string format**)\n",
    "        x_limit = Range of x. (e.g. x_limit = 100 implies a range from 0 to 100 on x-axis)\n",
    "        y_limit = Range of y. (e.g. y_limit = 220 implies a range from - to 220 on y-axis)\n",
    "        \"\"\"\n",
    "    def __init__(self, num, colour, x_limit, y_limit):\n",
    "        # size is the number of particle present.\n",
    "        self.size = num\n",
    "        self.colour = colour\n",
    "        self.x_limit = x_limit\n",
    "        self.y_limit = y_limit\n",
    "        self.particle_list = self.create()\n",
    "        self.update()\n",
    "    \n",
    "                \n",
    "    def create(self):\n",
    "        # Creating an empty list to store particles.\n",
    "        particle_list = []\n",
    "\n",
    "        # Running a loop to generate particles:\n",
    "        for i in range(self.size):\n",
    "            # random x (integer between '0 to x_limit')\n",
    "            ran_x = np.random.randint(0, self.x_limit)\n",
    "            # random y (integer between '0 to y_limit')\n",
    "            ran_y = np.random.randint(0, self.y_limit)\n",
    "            \n",
    "            # Creating a particle\n",
    "            particle = Particle(x_pos=ran_x, y_pos=ran_y,colour=self.colour)\n",
    "            \n",
    "            # Addiing the particle in the list.\n",
    "            particle_list.append(particle)\n",
    "        # Returning the list\n",
    "        \n",
    "        #**Note: Particle velocity and acceleration are not updated and =0**\n",
    "        return particle_list\n",
    "    \n",
    "    def update(self):\n",
    "        \"\"\"\n",
    "        Updates the position, velocity and acceleration of all particles.\"\"\"\n",
    "        # x and y component of positions of all particles\n",
    "        self.x = [p.x for p in self.particle_list]\n",
    "        self.y = [p.y for p in self.particle_list]\n",
    "        \n",
    "        # x and y velocity component of all particles\n",
    "        self.vx = [p.vx for p in self.particle_list]\n",
    "        self.vy = [p.vy for p in self.particle_list]\n",
    "        \n",
    "        # x and y acceleration component of all particles\n",
    "        self.ax = [p.ax for p in self.particle_list]\n",
    "        self.ay = [p.ay for p in self.particle_list]\n",
    "        \n",
    "    def plot(self, ax= None):\n",
    "        \"\"\"\n",
    "        Plots the particles\"\"\"\n",
    "        \n",
    "        # Before plotting, update the properties of the particles\n",
    "        self.update()\n",
    "        \n",
    "        x_list, y_list, col = self.x, self.y, self.colour\n",
    "        \n",
    "        if ax is None:\n",
    "            plt.scatter(x_list, y_list,c=col,s=5,alpha=0.6, linewidth=0.2)\n",
    "        else:\n",
    "            ax.scatter(x_list, y_list,c=col,s=5,alpha=0.6,linewidth=0.2)"
   ]
  },
  {
   "cell_type": "code",
   "execution_count": 117,
   "id": "e9a3c1d6",
   "metadata": {},
   "outputs": [],
   "source": [
    "@jit\n",
    "def rule(particle1, particle2, force=10,dt=0.1):\n",
    "    \"\"\"\n",
    "    Takes two objects of 'Create' class.\n",
    "    For example:\n",
    "    \n",
    "        ```\n",
    "        green = Create(10, 'green', x_limit=100, y_limit=100)\n",
    "        red = Create(10,'red',x_limit=100,y_limit=100)\n",
    "        \n",
    "        rule(green, red, force=0.1)\n",
    "        # force = +ve => repulsive force\n",
    "        # force = -ve => attractive force\n",
    "        ```\n",
    "        ### **Note**: only \"green\" particles will have their positions updated.\n",
    "                     If you want to update the properties of red particles then\n",
    "                     use :\n",
    "                     `rule(red,green,force=-0.1)\n",
    "                     `\n",
    "                     This will attract red particles towards green particles\n",
    "                \n",
    "        \n",
    "        ########\n",
    "        particle1: any object from 'Create' class\n",
    "        particle2: any object from 'Create' class\n",
    "        force: force acting between the two particle objects.\n",
    "        \"\"\"\n",
    "    for i in range(particle1.size):\n",
    "        particle1.particle_list[i].ax = 0\n",
    "        particle1.particle_list[i].ay = 0\n",
    "        for j in range(particle2.size):\n",
    "            a = particle1.particle_list[i]\n",
    "            b = particle2.particle_list[j]\n",
    "            dx = a.x - b.x\n",
    "            dy = a.y - b.y\n",
    "            d = np.sqrt(dx**2 + dy**2)\n",
    "            if d>0 and d<(0.16*particle1.x_limit):\n",
    "                # increase dt to speed up algorithm\n",
    "                F = force*1/d*dt\n",
    "                a.ax += (F*dx)\n",
    "                a.ay += (F*dy)\n",
    "                \n",
    "        a.vx = (a.vx + a.ax)*0.5\n",
    "        a.vy = (a.vy + a.ay)*0.5\n",
    "        a.x += a.vx\n",
    "        a.y += a.vy\n",
    "        particle1.particle_list[i] = a\n",
    "        \n",
    "        # Boundary condition\n",
    "        if a.x <= 0 or a.x >= particle1.x_limit:\n",
    "            a.vx *= -1\n",
    "        if a.y <= 0 or a.y >= particle1.x_limit:\n",
    "            a.vy *= -1"
   ]
  },
  {
   "cell_type": "markdown",
   "id": "46fb9f70",
   "metadata": {},
   "source": [
    "# Function to save videos"
   ]
  },
  {
   "cell_type": "code",
   "execution_count": 118,
   "id": "8492bcfd",
   "metadata": {},
   "outputs": [],
   "source": [
    "# Use this function after the images are saved to a particular folder.\n",
    "\n",
    "# Always use numbers to name the image files, no alphabets should be there in the names.\n",
    "def save_to_video(video_name:'str',image_folder='folder_path_where_your_images_saved', fps=30):\n",
    "    '''\n",
    "    Example:\n",
    "    save_to_video(video_name='galaxy_sim2.mp4',image_folder=\"./animation_dump/\",fps=30)'''\n",
    "    print('Video starting to process')\n",
    "    # gather the names of the images in the folder:\n",
    "    images = [img for img in os.listdir(image_folder) if img.endswith('.png')]\n",
    "    \n",
    "    # sort the images number wise.\n",
    "    images = sorted(images, key=lambda x: int(os.path.splitext(x)[0]))\n",
    "    #if you have used alphabets in the order 'image_01.png'\n",
    "    # Use:\n",
    "    #images = sorted(images, key=lambda x: int(x.splitext(x.split('_')[-1])[0])) check the below rough work.\n",
    "    \n",
    "    # Convert any image into array and check the dimensions of data type:\n",
    "    frame = cv2.imread(os.path.join(image_folder, images[0]))\n",
    "    print(frame.shape)\n",
    "    height, width, layers = frame.shape #(height, width, color channels)\n",
    "    \n",
    "    # Video codec, etc settings ('DIVX best for windows' source:https://docs.opencv.org/master/dd/d43/tutorial_py_video_display.html)\n",
    "    fourcc = cv2.VideoWriter_fourcc(*'mp4v')\n",
    "    '''**Note**: This fourcc will work for both Mac and Windows users. '''\n",
    "    \n",
    "    # Create the video object from cv2 with appropriate arguments:\n",
    "    video = cv2.VideoWriter(video_name, fourcc, fps, (width,height))\n",
    "    print('Video is processing...')\n",
    "    # Add image from the images\n",
    "    for image in images:\n",
    "        # Join the name of the image to full path directory and convert the image into array and add it to the video file.\n",
    "        video.write(cv2.imread(os.path.join(image_folder, image)))\n",
    "    \n",
    "    # Destroying cv2 windows (safety protocol)\n",
    "    cv2.destroyAllWindows()\n",
    "    print(f\"Video Processed\\nSaved in as '{video_name}'.\")\n",
    "    #Upload the video at desired path:\n",
    "    video.release()"
   ]
  },
  {
   "cell_type": "markdown",
   "id": "f8052e51",
   "metadata": {},
   "source": [
    "# Creating Life Patterns\n",
    "\n",
    "### Example 1\n"
   ]
  },
  {
   "cell_type": "code",
   "execution_count": 96,
   "id": "d7901dcc",
   "metadata": {},
   "outputs": [
    {
     "data": {
      "image/png": "[encoded data removed]",
      "text/plain": [
       "<Figure size 500x500 with 1 Axes>"
      ]
     },
     "metadata": {},
     "output_type": "display_data"
    },
    {
     "name": "stdout",
     "output_type": "stream",
     "text": [
      "100.0% rendered...\n"
     ]
    }
   ],
   "source": [
    "# We set the x and y limit for the plot:\n",
    "x_lim = 500\n",
    "y_lim = 500\n",
    "\n",
    "# Creating 'Create' objects \n",
    "green = Create(num = 200, colour='green',x_limit=x_lim, y_limit=y_lim)\n",
    "red = Create(num = 200, colour='red',x_limit=x_lim,y_limit=y_lim)\n",
    "white = Create(num=200,colour='white',x_limit=x_lim,y_limit=y_lim)\n",
    "\n",
    "# time loop\n",
    "time_steps = 200\n",
    "for i in range(time_steps):\n",
    "    fig, ax = plt.subplots(1,1,figsize=(5,5),dpi=100)\n",
    "    # plotting the particles\n",
    "    green.plot(ax)\n",
    "    red.plot(ax)\n",
    "    white.plot(ax)\n",
    "    \n",
    "    # applying rules\n",
    "    rule(green, red, force=-0.17)\n",
    "    rule(green,green,force=-0.32)\n",
    "    rule(green,white,force=0.34)\n",
    "    #\n",
    "    rule(red, green, force = -0.34)\n",
    "    rule(red,red, force=-0.1)\n",
    "    #\n",
    "    rule(white,green,-0.2)\n",
    "    rule(white,white,0.15)\n",
    "    \n",
    "    # setting x limits (for plotting)\n",
    "    ax.set_xlim(0-10,x_lim+10)\n",
    "    ax.set_ylim(0-10,y_lim+10)\n",
    "    \n",
    "    # for saving video:\n",
    "    plt.savefig(f'../animation_dump/{i}.png')\n",
    "    plt.show()\n",
    "    print(f\"{(i+1)*100/time_steps}% rendered...\")\n",
    "    clear_output(wait=True)"
   ]
  },
  {
   "cell_type": "markdown",
   "id": "4ae3271b",
   "metadata": {},
   "source": [
    "## Saving a video"
   ]
  },
  {
   "cell_type": "code",
   "execution_count": 97,
   "id": "c9307388",
   "metadata": {},
   "outputs": [
    {
     "name": "stdout",
     "output_type": "stream",
     "text": [
      "Video starting to process\n",
      "(500, 500, 3)\n",
      "Video is processing...\n",
      "Video Processed\n",
      "Saved in as './demo4.mp4'.\n"
     ]
    }
   ],
   "source": [
    "save_to_video(video_name='./demo4.mp4',image_folder='../animation_dump/',fps=30)"
   ]
  },
  {
   "cell_type": "markdown",
   "id": "2c7b9cb6",
   "metadata": {},
   "source": [
    "# Randomizing the process"
   ]
  },
  {
   "cell_type": "code",
   "execution_count": 119,
   "id": "49c7a013",
   "metadata": {},
   "outputs": [],
   "source": [
    "class RandomizeSimulation():\n",
    "    \"\"\"\n",
    "    Class randomizes the process of making patterns. Each time it will make different patterns by randomaly changing \n",
    "    the parameters\n",
    "    \n",
    "    Inputs:\n",
    "    p_groups: A list of 'Create' class objects\n",
    "    For example:\n",
    "    ```\n",
    "    green = Create(10,'green',x_lim, y_lim)\n",
    "    red = Create(10,'red',x_lim, y_lim)\n",
    "    white = Create(10,'white',x_lim, y_lim)\n",
    "    \n",
    "    list_ = [green,red,white]\n",
    "    gen_ran = RandomizeSimulation(list_)\n",
    "    \n",
    "    gen_ran.generate()\n",
    "    # Generates random patterns\n",
    "    ```\n",
    "    \"\"\"\n",
    "    \n",
    "    def __init__(self, p_groups):\n",
    "        \n",
    "        self.l = p_groups\n",
    "        \n",
    "    def generate(self, save_to_path = None,steps=100,dt=0.1):\n",
    "        \n",
    "        random_nums = np.random.normal(0,10,len(self.l)**2)\n",
    "        \n",
    "        for time in range(steps):\n",
    "            fig, ax = plt.subplots(1,1,figsize=(5,5),dpi=100)\n",
    "            # randomizing the process\n",
    "            for i in range(len(random_nums)):\n",
    "                \n",
    "            \n",
    "\n",
    "            ax.set_xlim(0-10,self.l[0].x_limit+10)\n",
    "            ax.set_ylim(0-10,self.l[0].y_limit+10)\n",
    "\n",
    "            # for saving video:\n",
    "            if save_to_path is not None:\n",
    "                plt.savefig(f'{save_to_path}/{i}.png')\n",
    "            plt.show()\n",
    "            print(f\"{(time+1)*100/steps}% rendered...\")\n",
    "            clear_output(wait=True)"
   ]
  },
  {
   "cell_type": "code",
   "execution_count": 120,
   "id": "e16beb1d",
   "metadata": {},
   "outputs": [],
   "source": [
    "gen_ran = RandomizeSimulation(p_groups=[green,red,white])"
   ]
  },
  {
   "cell_type": "code",
   "execution_count": 122,
   "id": "955142c3",
   "metadata": {},
   "outputs": [
    {
     "ename": "KeyboardInterrupt",
     "evalue": "",
     "output_type": "error",
     "traceback": [
      "\u001b[1;31m---------------------------------------------------------------------------\u001b[0m",
      "\u001b[1;31mKeyboardInterrupt\u001b[0m                         Traceback (most recent call last)",
      "\u001b[1;32m<ipython-input-122-d747a98d572f>\u001b[0m in \u001b[0;36m<module>\u001b[1;34m\u001b[0m\n\u001b[1;32m----> 1\u001b[1;33m \u001b[0mgen_ran\u001b[0m\u001b[1;33m.\u001b[0m\u001b[0mgenerate\u001b[0m\u001b[1;33m(\u001b[0m\u001b[1;33m)\u001b[0m\u001b[1;33m\u001b[0m\u001b[1;33m\u001b[0m\u001b[0m\n\u001b[0m",
      "\u001b[1;32m<ipython-input-119-e82de57c09b3>\u001b[0m in \u001b[0;36mgenerate\u001b[1;34m(self, save_to_path, steps, dt)\u001b[0m\n\u001b[0;32m     32\u001b[0m             \u001b[1;32mfor\u001b[0m \u001b[0mi\u001b[0m \u001b[1;32min\u001b[0m \u001b[0mself\u001b[0m\u001b[1;33m.\u001b[0m\u001b[0ml\u001b[0m\u001b[1;33m:\u001b[0m\u001b[1;33m\u001b[0m\u001b[1;33m\u001b[0m\u001b[0m\n\u001b[0;32m     33\u001b[0m                 \u001b[1;32mfor\u001b[0m \u001b[0mj\u001b[0m \u001b[1;32min\u001b[0m \u001b[0mself\u001b[0m\u001b[1;33m.\u001b[0m\u001b[0ml\u001b[0m\u001b[1;33m:\u001b[0m\u001b[1;33m\u001b[0m\u001b[1;33m\u001b[0m\u001b[0m\n\u001b[1;32m---> 34\u001b[1;33m                     \u001b[0mrule\u001b[0m\u001b[1;33m(\u001b[0m\u001b[0mi\u001b[0m\u001b[1;33m,\u001b[0m\u001b[0mj\u001b[0m\u001b[1;33m,\u001b[0m\u001b[0mforce\u001b[0m\u001b[1;33m=\u001b[0m\u001b[0mnp\u001b[0m\u001b[1;33m.\u001b[0m\u001b[0mrandom\u001b[0m\u001b[1;33m.\u001b[0m\u001b[0mnormal\u001b[0m\u001b[1;33m(\u001b[0m\u001b[1;36m0\u001b[0m\u001b[1;33m,\u001b[0m \u001b[1;36m10\u001b[0m\u001b[1;33m)\u001b[0m\u001b[1;33m,\u001b[0m\u001b[0mdt\u001b[0m\u001b[1;33m=\u001b[0m\u001b[0mdt\u001b[0m\u001b[1;33m)\u001b[0m\u001b[1;33m\u001b[0m\u001b[1;33m\u001b[0m\u001b[0m\n\u001b[0m\u001b[0;32m     35\u001b[0m \u001b[1;33m\u001b[0m\u001b[0m\n\u001b[0;32m     36\u001b[0m             \u001b[0max\u001b[0m\u001b[1;33m.\u001b[0m\u001b[0mset_xlim\u001b[0m\u001b[1;33m(\u001b[0m\u001b[1;36m0\u001b[0m\u001b[1;33m-\u001b[0m\u001b[1;36m10\u001b[0m\u001b[1;33m,\u001b[0m\u001b[0mself\u001b[0m\u001b[1;33m.\u001b[0m\u001b[0ml\u001b[0m\u001b[1;33m[\u001b[0m\u001b[1;36m0\u001b[0m\u001b[1;33m]\u001b[0m\u001b[1;33m.\u001b[0m\u001b[0mx_limit\u001b[0m\u001b[1;33m+\u001b[0m\u001b[1;36m10\u001b[0m\u001b[1;33m)\u001b[0m\u001b[1;33m\u001b[0m\u001b[1;33m\u001b[0m\u001b[0m\n",
      "\u001b[1;31mKeyboardInterrupt\u001b[0m: "
     ]
    },
    {
     "data": {
      "image/png": "[encoded data removed]",
      "text/plain": [
       "<Figure size 500x500 with 1 Axes>"
      ]
     },
     "metadata": {},
     "output_type": "display_data"
    }
   ],
   "source": [
    "gen_ran.generate()"
   ]
  },
  {
   "cell_type": "code",
   "execution_count": null,
   "id": "8543d3ac",
   "metadata": {},
   "outputs": [],
   "source": []
  }
 ],
 "metadata": {
  "kernelspec": {
   "display_name": "Python 3",
   "language": "python",
   "name": "python3"
  },
  "language_info": {
   "codemirror_mode": {
    "name": "ipython",
    "version": 3
   },
   "file_extension": ".py",
   "mimetype": "text/x-python",
   "name": "python",
   "nbconvert_exporter": "python",
   "pygments_lexer": "ipython3",
   "version": "3.8.0"
  }
 },
 "nbformat": 4,
 "nbformat_minor": 5
}
